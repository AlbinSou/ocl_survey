{
 "cells": [
  {
   "cell_type": "code",
   "execution_count": null,
   "id": "fc668afe",
   "metadata": {},
   "outputs": [],
   "source": [
    "import torch\n",
    "import numpy as np\n",
    "import pandas as pd\n",
    "import seaborn as sns\n",
    "from ray.tune import ExperimentAnalysis"
   ]
  },
  {
   "cell_type": "code",
   "execution_count": null,
   "id": "a296354b",
   "metadata": {},
   "outputs": [],
   "source": [
    "analysis_full = ExperimentAnalysis(\"/home/albin/ray_results/train_function_2023-06-09_14-40-55\")\n",
    "analysis_4 = ExperimentAnalysis(\"/home/albin/ray_results/train_function_2023-06-16_13-31-41\")"
   ]
  },
  {
   "cell_type": "code",
   "execution_count": null,
   "id": "574dab33",
   "metadata": {},
   "outputs": [],
   "source": [
    "df_full = analysis_full.dataframe(metric=\"final_accuracy\", mode=\"max\")\n",
    "df_4 = analysis_4.dataframe(metric=\"final_accuracy\", mode=\"max\")\n",
    "print(df_full)"
   ]
  },
  {
   "cell_type": "code",
   "execution_count": null,
   "id": "66222bce",
   "metadata": {},
   "outputs": [],
   "source": [
    "sns.scatterplot(data=df_full, x=\"config/alpha\", y=\"config/alpha_ramp\", hue=\"final_accuracy\", size=\"final_accuracy\")"
   ]
  },
  {
   "cell_type": "code",
   "execution_count": null,
   "id": "8c2ea0b3",
   "metadata": {},
   "outputs": [],
   "source": [
    "# Alpha vs Alpha ramp\n",
    "sns.scatterplot(data=df_4, x=\"config/alpha\", y=\"config/alpha_ramp\", hue=\"final_accuracy\", size=\"final_accuracy\")"
   ]
  },
  {
   "cell_type": "code",
   "execution_count": null,
   "id": "3f8c1c1d",
   "metadata": {},
   "outputs": [],
   "source": [
    "# Train Epochs, LR, Alpha\n",
    "sns.lmplot(data=df_full, x=\"config/strategy/alpha_ramp\", y=\"final_accuracy\", order=2)#, hue=\"config/optimizer/lr\")"
   ]
  },
  {
   "cell_type": "code",
   "execution_count": null,
   "id": "c8e52bc7",
   "metadata": {},
   "outputs": [],
   "source": [
    "# Train Epochs, LR, Alpha\n",
    "import matplotlib.pyplot as plt\n",
    "\n",
    "grid = sns.lmplot(data=df_full, x=\"config/strategy/lr_ramp\", y=\"final_accuracy\", order=2)# size=\"config/optimizer/lr\")\n",
    "grid.set(xscale=\"log\")\n",
    "plt.ylim((0, 1))"
   ]
  },
  {
   "cell_type": "code",
   "execution_count": null,
   "id": "5400ba90",
   "metadata": {},
   "outputs": [],
   "source": [
    "# Alpha vs Alpha ramp\n",
    "grid = sns.scatterplot(data=df_4, x=\"config/optimizer/lr\", y=\"config/strategy/train_epochs\", hue=\"final_accuracy\")\n",
    "grid.set(xscale=\"log\")"
   ]
  },
  {
   "cell_type": "code",
   "execution_count": null,
   "id": "599bd035",
   "metadata": {},
   "outputs": [],
   "source": [
    "print(analysis_full.get_best_config(metric=\"final_accuracy\", mode=\"max\"))\n",
    "print(analysis_4.get_best_config(metric=\"final_accuracy\", mode=\"max\"))"
   ]
  },
  {
   "cell_type": "code",
   "execution_count": null,
   "id": "52a87340",
   "metadata": {},
   "outputs": [],
   "source": [
    "df_4[\"final_accuracy\"].max()"
   ]
  }
 ],
 "metadata": {
  "kernelspec": {
   "display_name": "Python 3 (ipykernel)",
   "language": "python",
   "name": "python3"
  },
  "language_info": {
   "codemirror_mode": {
    "name": "ipython",
    "version": 3
   },
   "file_extension": ".py",
   "mimetype": "text/x-python",
   "name": "python",
   "nbconvert_exporter": "python",
   "pygments_lexer": "ipython3",
   "version": "3.8.15"
  }
 },
 "nbformat": 4,
 "nbformat_minor": 5
}
