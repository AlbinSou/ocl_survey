{
 "cells": [
  {
   "cell_type": "code",
   "execution_count": null,
   "id": "e7eaa110",
   "metadata": {},
   "outputs": [],
   "source": [
    "from src.toolkit.process_results import extract_results\n",
    "from src.toolkit.post_metrics import compute_forgetting, compute_average, compute_average_forgetting, compute_AAA, compute_mean_std_metric\n",
    "import seaborn as sns"
   ]
  },
  {
   "cell_type": "code",
   "execution_count": null,
   "id": "4e1d1377",
   "metadata": {},
   "outputs": [],
   "source": [
    "frames = extract_results(\"/DATA/ocl_survey/er_split_cifar100_20_2000/\")\n",
    "df = frames[\"training\"]"
   ]
  },
  {
   "cell_type": "code",
   "execution_count": null,
   "id": "4b02f8a6",
   "metadata": {},
   "outputs": [],
   "source": [
    "df = compute_average_forgetting(df, 20, base_name=\"Top1_Acc_Exp/eval_phase/valid_stream/Task000/Exp\")\n",
    "df = compute_AAA(df)"
   ]
  },
  {
   "cell_type": "code",
   "execution_count": null,
   "id": "46b1f871",
   "metadata": {},
   "outputs": [],
   "source": [
    "print(df)"
   ]
  },
  {
   "cell_type": "markdown",
   "id": "4adb84c9",
   "metadata": {},
   "source": [
    "# Average Accuracy"
   ]
  },
  {
   "cell_type": "code",
   "execution_count": null,
   "id": "7c974f98",
   "metadata": {},
   "outputs": [],
   "source": [
    "sns.lineplot(data=df, x=\"mb_index\", y=\"CumulativeAccuracy/eval_phase/valid_stream/Exp000\", errorbar=\"sd\")"
   ]
  },
  {
   "cell_type": "code",
   "execution_count": null,
   "id": "3712d484",
   "metadata": {
    "scrolled": true
   },
   "outputs": [],
   "source": [
    "sns.lineplot(data=df, x=\"mb_index\", y=\"Top1_Acc_Stream/eval_phase/test_stream/Task000\", errorbar=\"sd\")"
   ]
  },
  {
   "cell_type": "code",
   "execution_count": null,
   "id": "b190c2db",
   "metadata": {},
   "outputs": [],
   "source": [
    "sns.lineplot(data=df, x=\"mb_index\", y=\"AAA\", errorbar=\"sd\")"
   ]
  },
  {
   "cell_type": "code",
   "execution_count": null,
   "id": "6a216077",
   "metadata": {},
   "outputs": [],
   "source": [
    "mean, std = compute_mean_std_metric(df, \"Top1_Acc_Stream/eval_phase/test_stream/Task000\")\n",
    "print(mean, std)"
   ]
  }
 ],
 "metadata": {
  "kernelspec": {
   "display_name": "Python 3 (ipykernel)",
   "language": "python",
   "name": "python3"
  },
  "language_info": {
   "codemirror_mode": {
    "name": "ipython",
    "version": 3
   },
   "file_extension": ".py",
   "mimetype": "text/x-python",
   "name": "python",
   "nbconvert_exporter": "python",
   "pygments_lexer": "ipython3",
   "version": "3.8.15"
  }
 },
 "nbformat": 4,
 "nbformat_minor": 5
}
